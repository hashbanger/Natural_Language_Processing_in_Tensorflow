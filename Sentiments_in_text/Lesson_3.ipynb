{
  "nbformat": 4,
  "nbformat_minor": 0,
  "metadata": {
    "colab": {
      "name": "Lesson_3.ipynb",
      "provenance": []
    },
    "kernelspec": {
      "name": "python3",
      "display_name": "Python 3"
    }
  },
  "cells": [
    {
      "cell_type": "markdown",
      "metadata": {
        "id": "KjwPQaHKc7LN",
        "colab_type": "text"
      },
      "source": [
        "First we will process the short dataset"
      ]
    },
    {
      "cell_type": "code",
      "metadata": {
        "id": "-WPT4k7PUNFq",
        "colab_type": "code",
        "colab": {}
      },
      "source": [
        "import json"
      ],
      "execution_count": 0,
      "outputs": []
    },
    {
      "cell_type": "code",
      "metadata": {
        "id": "PY0oTkZjV5qH",
        "colab_type": "code",
        "colab": {}
      },
      "source": [
        "with open('sarcasm_v1.json','r') as f:\n",
        "    datastore = json.load(f)"
      ],
      "execution_count": 0,
      "outputs": []
    },
    {
      "cell_type": "code",
      "metadata": {
        "id": "J-m9ro4YWB7P",
        "colab_type": "code",
        "colab": {}
      },
      "source": [
        "sentences= []\n",
        "labels = []\n",
        "urls = []"
      ],
      "execution_count": 0,
      "outputs": []
    },
    {
      "cell_type": "code",
      "metadata": {
        "id": "DAdwHXHuXNXn",
        "colab_type": "code",
        "colab": {}
      },
      "source": [
        "for item in datastore:\n",
        "    sentences.append(item['headline'])\n",
        "    labels.append(item['is_sarcastic'])\n",
        "    urls.append(item['article_link'])"
      ],
      "execution_count": 0,
      "outputs": []
    },
    {
      "cell_type": "code",
      "metadata": {
        "id": "WUvJmQR-X9Es",
        "colab_type": "code",
        "colab": {
          "base_uri": "https://localhost:8080/",
          "height": 122
        },
        "outputId": "0280bf4a-8da0-4f2a-aae0-3fa2d085d583"
      },
      "source": [
        "print(sentences, end = '\\n\\n')\n",
        "print(labels, end = '\\n\\n')\n",
        "print(urls)"
      ],
      "execution_count": 33,
      "outputs": [
        {
          "output_type": "stream",
          "text": [
            "[\"former versace store clerk sues over secret 'black code' for minority shoppers\", \"the 'roseanne' revival catches up to our thorny political mood, for better and worse\", \"mom starting to fear son's web series closest thing she will have to grandchild\"]\n",
            "\n",
            "[0, 0, 1]\n",
            "\n",
            "['https://www.huffingtonpost.com/entry/versace-black-code_us_5861fbefe4b0de3a08f600d5', 'https://www.huffingtonpost.com/entry/roseanne-revival-review_us_5ab3a497e4b054d118e04365', 'https://local.theonion.com/mom-starting-to-fear-son-s-web-series-closest-thing-she-1819576697']\n"
          ],
          "name": "stdout"
        }
      ]
    },
    {
      "cell_type": "code",
      "metadata": {
        "id": "F6OtI4sXXanN",
        "colab_type": "code",
        "colab": {}
      },
      "source": [
        "from tensorflow.keras.preprocessing.text import Tokenizer\n",
        "from tensorflow.keras.preprocessing.sequence import pad_sequences"
      ],
      "execution_count": 0,
      "outputs": []
    },
    {
      "cell_type": "code",
      "metadata": {
        "id": "IvxZQ8LUXvbV",
        "colab_type": "code",
        "colab": {}
      },
      "source": [
        "tokenizer = Tokenizer(oov_token= '<OOV>')\n",
        "tokenizer.fit_on_texts(sentences)\n",
        "word_index = tokenizer.word_index"
      ],
      "execution_count": 0,
      "outputs": []
    },
    {
      "cell_type": "code",
      "metadata": {
        "id": "crSBnQj3YFZY",
        "colab_type": "code",
        "colab": {}
      },
      "source": [
        "sequences = tokenizer.texts_to_sequences(sentences)"
      ],
      "execution_count": 0,
      "outputs": []
    },
    {
      "cell_type": "code",
      "metadata": {
        "id": "cQHysE8JYQJj",
        "colab_type": "code",
        "colab": {}
      },
      "source": [
        "padded = pad_sequences(sequences, padding= 'post')"
      ],
      "execution_count": 0,
      "outputs": []
    },
    {
      "cell_type": "code",
      "metadata": {
        "id": "JVuPMo0WYWru",
        "colab_type": "code",
        "colab": {
          "base_uri": "https://localhost:8080/",
          "height": 51
        },
        "outputId": "7a34a708-0536-4fd5-d3c7-75e3599b8da5"
      },
      "source": [
        "print(padded[0])\n",
        "print(padded.shape)"
      ],
      "execution_count": 38,
      "outputs": [
        {
          "output_type": "stream",
          "text": [
            "[ 4  5  6  7  8  9 10 11 12  3 13 14  0  0]\n",
            "(3, 14)\n"
          ],
          "name": "stdout"
        }
      ]
    },
    {
      "cell_type": "code",
      "metadata": {
        "id": "Q0QfgGX9YbbO",
        "colab_type": "code",
        "colab": {
          "base_uri": "https://localhost:8080/",
          "height": 54
        },
        "outputId": "e248b019-d9c8-467c-c1f2-b12461675fa1"
      },
      "source": [
        "print(word_index)"
      ],
      "execution_count": 39,
      "outputs": [
        {
          "output_type": "stream",
          "text": [
            "{'<OOV>': 1, 'to': 2, 'for': 3, 'former': 4, 'versace': 5, 'store': 6, 'clerk': 7, 'sues': 8, 'over': 9, 'secret': 10, \"'black\": 11, \"code'\": 12, 'minority': 13, 'shoppers': 14, 'the': 15, \"'roseanne'\": 16, 'revival': 17, 'catches': 18, 'up': 19, 'our': 20, 'thorny': 21, 'political': 22, 'mood': 23, 'better': 24, 'and': 25, 'worse': 26, 'mom': 27, 'starting': 28, 'fear': 29, \"son's\": 30, 'web': 31, 'series': 32, 'closest': 33, 'thing': 34, 'she': 35, 'will': 36, 'have': 37, 'grandchild': 38}\n"
          ],
          "name": "stdout"
        }
      ]
    },
    {
      "cell_type": "markdown",
      "metadata": {
        "id": "E5KsvgFyad7V",
        "colab_type": "text"
      },
      "source": [
        "______"
      ]
    },
    {
      "cell_type": "markdown",
      "metadata": {
        "id": "dwARD9TcdUxq",
        "colab_type": "text"
      },
      "source": [
        "Now we will process the entire dataset"
      ]
    },
    {
      "cell_type": "code",
      "metadata": {
        "id": "s95wp5x-Ykwx",
        "colab_type": "code",
        "colab": {
          "base_uri": "https://localhost:8080/",
          "height": 204
        },
        "outputId": "29d4f002-5a88-4865-833e-7e8909e702d3"
      },
      "source": [
        "!wget --no-check-certificate https://storage.googleapis.com/laurencemoroney-blog.appspot.com/sarcasm.json -O /tmp/sarcasm.json"
      ],
      "execution_count": 40,
      "outputs": [
        {
          "output_type": "stream",
          "text": [
            "--2020-05-04 06:40:18--  https://storage.googleapis.com/laurencemoroney-blog.appspot.com/sarcasm.json\n",
            "Resolving storage.googleapis.com (storage.googleapis.com)... 108.177.111.128, 2607:f8b0:4001:c03::80\n",
            "Connecting to storage.googleapis.com (storage.googleapis.com)|108.177.111.128|:443... connected.\n",
            "HTTP request sent, awaiting response... 200 OK\n",
            "Length: 5643545 (5.4M) [application/json]\n",
            "Saving to: ‘/tmp/sarcasm.json’\n",
            "\n",
            "\r/tmp/sarcasm.json     0%[                    ]       0  --.-KB/s               \r/tmp/sarcasm.json   100%[===================>]   5.38M  --.-KB/s    in 0.03s   \n",
            "\n",
            "2020-05-04 06:40:18 (158 MB/s) - ‘/tmp/sarcasm.json’ saved [5643545/5643545]\n",
            "\n"
          ],
          "name": "stdout"
        }
      ]
    },
    {
      "cell_type": "code",
      "metadata": {
        "id": "SQVpN7UxZylL",
        "colab_type": "code",
        "colab": {}
      },
      "source": [
        "with open('/tmp/sarcasm.json','r') as f:\n",
        "    datastore = json.load(f)"
      ],
      "execution_count": 0,
      "outputs": []
    },
    {
      "cell_type": "code",
      "metadata": {
        "id": "c8Rx7dT1aqed",
        "colab_type": "code",
        "colab": {}
      },
      "source": [
        "sentences= []\n",
        "labels = []\n",
        "urls = []"
      ],
      "execution_count": 0,
      "outputs": []
    },
    {
      "cell_type": "code",
      "metadata": {
        "id": "1lg7EFDfawUE",
        "colab_type": "code",
        "colab": {}
      },
      "source": [
        "for item in datastore:\n",
        "    sentences.append(item['headline'])\n",
        "    labels.append(item['is_sarcastic'])\n",
        "    urls.append(item['article_link'])"
      ],
      "execution_count": 0,
      "outputs": []
    },
    {
      "cell_type": "code",
      "metadata": {
        "id": "ZqinBkW0bEyg",
        "colab_type": "code",
        "colab": {
          "base_uri": "https://localhost:8080/",
          "height": 122
        },
        "outputId": "b5966535-6ee6-4459-a72b-0af7dfd3a34e"
      },
      "source": [
        "print(sentences[:2], end = '\\n\\n')\n",
        "print(labels[:2], end = '\\n\\n')\n",
        "print(urls[:2])"
      ],
      "execution_count": 44,
      "outputs": [
        {
          "output_type": "stream",
          "text": [
            "[\"former versace store clerk sues over secret 'black code' for minority shoppers\", \"the 'roseanne' revival catches up to our thorny political mood, for better and worse\"]\n",
            "\n",
            "[0, 0]\n",
            "\n",
            "['https://www.huffingtonpost.com/entry/versace-black-code_us_5861fbefe4b0de3a08f600d5', 'https://www.huffingtonpost.com/entry/roseanne-revival-review_us_5ab3a497e4b054d118e04365']\n"
          ],
          "name": "stdout"
        }
      ]
    },
    {
      "cell_type": "code",
      "metadata": {
        "id": "BC2_5smvbJJ1",
        "colab_type": "code",
        "colab": {}
      },
      "source": [
        "tokenizer = Tokenizer(oov_token= '<OOV>')\n",
        "tokenizer.fit_on_texts(sentences)\n",
        "word_index = tokenizer.word_index"
      ],
      "execution_count": 0,
      "outputs": []
    },
    {
      "cell_type": "code",
      "metadata": {
        "id": "50OoZESxbOYE",
        "colab_type": "code",
        "colab": {}
      },
      "source": [
        "sequences = tokenizer.texts_to_sequences(sentences)"
      ],
      "execution_count": 0,
      "outputs": []
    },
    {
      "cell_type": "code",
      "metadata": {
        "id": "ifJB-T-RbO6a",
        "colab_type": "code",
        "colab": {}
      },
      "source": [
        "padded = pad_sequences(sequences, padding= 'post')"
      ],
      "execution_count": 0,
      "outputs": []
    },
    {
      "cell_type": "code",
      "metadata": {
        "id": "gvktFoadbQPc",
        "colab_type": "code",
        "colab": {
          "base_uri": "https://localhost:8080/",
          "height": 153
        },
        "outputId": "f0ef3b72-f3c7-412e-8cb5-826ca157f8a5"
      },
      "source": [
        "print(sentences[2], end = '\\n\\n')\n",
        "print(padded[2], end = '\\n\\n')\n",
        "print(padded.shape)"
      ],
      "execution_count": 51,
      "outputs": [
        {
          "output_type": "stream",
          "text": [
            "mom starting to fear son's web series closest thing she will have to grandchild\n",
            "\n",
            "[  145   838     2   907  1749  2093   582  4719   221   143    39    46\n",
            "     2 10736     0     0     0     0     0     0     0     0     0     0\n",
            "     0     0     0     0     0     0     0     0     0     0     0     0\n",
            "     0     0     0     0]\n",
            "\n",
            "(26709, 40)\n"
          ],
          "name": "stdout"
        }
      ]
    },
    {
      "cell_type": "code",
      "metadata": {
        "id": "oSPAMpNjbRyu",
        "colab_type": "code",
        "colab": {
          "base_uri": "https://localhost:8080/",
          "height": 34
        },
        "outputId": "c03ce1fd-a732-4c3d-9e6a-28c70849f0bb"
      },
      "source": [
        "print(len(word_index))"
      ],
      "execution_count": 50,
      "outputs": [
        {
          "output_type": "stream",
          "text": [
            "29657\n"
          ],
          "name": "stdout"
        }
      ]
    },
    {
      "cell_type": "markdown",
      "metadata": {
        "id": "fTXUpoXcdYqB",
        "colab_type": "text"
      },
      "source": [
        "***de nada!***"
      ]
    }
  ]
}